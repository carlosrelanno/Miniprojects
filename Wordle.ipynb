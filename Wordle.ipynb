{
  "nbformat": 4,
  "nbformat_minor": 0,
  "metadata": {
    "colab": {
      "name": "Wordle.ipynb",
      "provenance": [],
      "collapsed_sections": [],
      "authorship_tag": "ABX9TyMOCr6q1+3nZjlxagQZdf+1",
      "include_colab_link": true
    },
    "kernelspec": {
      "name": "python3",
      "display_name": "Python 3"
    },
    "language_info": {
      "name": "python"
    }
  },
  "cells": [
    {
      "cell_type": "markdown",
      "metadata": {
        "id": "view-in-github",
        "colab_type": "text"
      },
      "source": [
        "<a href=\"https://colab.research.google.com/github/carlosrelanno/miniprojects/blob/main/Wordle.ipynb\" target=\"_parent\"><img src=\"https://colab.research.google.com/assets/colab-badge.svg\" alt=\"Open In Colab\"/></a>"
      ]
    },
    {
      "cell_type": "code",
      "source": [
        "!pip install emoji"
      ],
      "metadata": {
        "colab": {
          "base_uri": "https://localhost:8080/"
        },
        "id": "ZRwzJjMykiNx",
        "outputId": "38f60dc3-f430-45ff-ae07-bdea7eff1b9a"
      },
      "execution_count": 1,
      "outputs": [
        {
          "output_type": "stream",
          "name": "stdout",
          "text": [
            "Collecting emoji\n",
            "  Downloading emoji-1.6.3.tar.gz (174 kB)\n",
            "\u001b[?25l\r\u001b[K     |█▉                              | 10 kB 10.4 MB/s eta 0:00:01\r\u001b[K     |███▊                            | 20 kB 13.6 MB/s eta 0:00:01\r\u001b[K     |█████▋                          | 30 kB 9.9 MB/s eta 0:00:01\r\u001b[K     |███████▌                        | 40 kB 9.5 MB/s eta 0:00:01\r\u001b[K     |█████████▍                      | 51 kB 9.1 MB/s eta 0:00:01\r\u001b[K     |███████████▎                    | 61 kB 7.9 MB/s eta 0:00:01\r\u001b[K     |█████████████▏                  | 71 kB 7.9 MB/s eta 0:00:01\r\u001b[K     |███████████████                 | 81 kB 6.3 MB/s eta 0:00:01\r\u001b[K     |█████████████████               | 92 kB 4.5 MB/s eta 0:00:01\r\u001b[K     |██████████████████▉             | 102 kB 5.0 MB/s eta 0:00:01\r\u001b[K     |████████████████████▊           | 112 kB 5.0 MB/s eta 0:00:01\r\u001b[K     |██████████████████████▋         | 122 kB 5.0 MB/s eta 0:00:01\r\u001b[K     |████████████████████████▌       | 133 kB 5.0 MB/s eta 0:00:01\r\u001b[K     |██████████████████████████▍     | 143 kB 5.0 MB/s eta 0:00:01\r\u001b[K     |████████████████████████████▏   | 153 kB 5.0 MB/s eta 0:00:01\r\u001b[K     |██████████████████████████████  | 163 kB 5.0 MB/s eta 0:00:01\r\u001b[K     |████████████████████████████████| 174 kB 5.0 MB/s eta 0:00:01\r\u001b[K     |████████████████████████████████| 174 kB 5.0 MB/s \n",
            "\u001b[?25hBuilding wheels for collected packages: emoji\n",
            "  Building wheel for emoji (setup.py) ... \u001b[?25l\u001b[?25hdone\n",
            "  Created wheel for emoji: filename=emoji-1.6.3-py3-none-any.whl size=170298 sha256=3399c1f6d5d007d02596427fb0f51be04434ea4b013b6e2f466380a863aa533b\n",
            "  Stored in directory: /root/.cache/pip/wheels/03/8b/d7/ad579fbef83c287215c0caab60fb0ae0f30c4d7ce5f580eade\n",
            "Successfully built emoji\n",
            "Installing collected packages: emoji\n",
            "Successfully installed emoji-1.6.3\n"
          ]
        }
      ]
    },
    {
      "cell_type": "code",
      "source": [
        "!wget https://raw.githubusercontent.com/carlosrelanno/miniprojects/main/words_5.txt"
      ],
      "metadata": {
        "id": "2DZE74gIxr2u",
        "outputId": "98b21141-8150-4c6c-b9c2-d7088fe1cc14",
        "colab": {
          "base_uri": "https://localhost:8080/"
        }
      },
      "execution_count": 23,
      "outputs": [
        {
          "output_type": "stream",
          "name": "stdout",
          "text": [
            "--2022-02-09 23:19:23--  https://raw.githubusercontent.com/carlosrelanno/miniprojects/main/words_5.txt\n",
            "Resolving raw.githubusercontent.com (raw.githubusercontent.com)... 185.199.108.133, 185.199.109.133, 185.199.110.133, ...\n",
            "Connecting to raw.githubusercontent.com (raw.githubusercontent.com)|185.199.108.133|:443... connected.\n",
            "HTTP request sent, awaiting response... 200 OK\n",
            "Length: 28589 (28K) [text/plain]\n",
            "Saving to: ‘words_5.txt’\n",
            "\n",
            "\rwords_5.txt           0%[                    ]       0  --.-KB/s               \rwords_5.txt         100%[===================>]  27.92K  --.-KB/s    in 0s      \n",
            "\n",
            "2022-02-09 23:19:23 (137 MB/s) - ‘words_5.txt’ saved [28589/28589]\n",
            "\n"
          ]
        }
      ]
    },
    {
      "cell_type": "code",
      "execution_count": 24,
      "metadata": {
        "id": "NXXmAVjIkZs8"
      },
      "outputs": [],
      "source": [
        "import random, emoji, sys\n",
        "\n",
        "class Wordle:\n",
        "    def __init__(self):\n",
        "        # Load 5-letter word database\n",
        "        file = 'words_5.txt'\n",
        "        with open(file, encoding='UTF-8') as fp:\n",
        "            words = list()\n",
        "            words.extend([word.strip() for word in fp.readlines()])\n",
        "\n",
        "        # Select a random word\n",
        "        guess = words[random.randint(0, len(words))]\n",
        "        # Try to guess the word\n",
        "        print('W O R D L E')\n",
        "        for attempt in range(6):\n",
        "            print(f'Intento {attempt+1}/6')\n",
        "            candidate = input()\n",
        "            while not self.check(candidate, words):\n",
        "                candidate = input()\n",
        "            comparing = self.compare(guess, candidate)\n",
        "            if comparing == emoji.emojize(':green_square:')*5:\n",
        "                print('La acertaste!')\n",
        "                exit()\n",
        "            print(comparing)\n",
        "        print(guess)\n",
        "\n",
        "\n",
        "    def compare(self, guess, candidate):\n",
        "        guess_l = list(guess)\n",
        "        candidate_l = list(candidate)\n",
        "\n",
        "        # Set emojis for colored squares\n",
        "        white = emoji.emojize(':white_large_square:')\n",
        "        green = emoji.emojize(':green_square:')\n",
        "        yellow = emoji.emojize(':yellow_square:')\n",
        "\n",
        "        color_out = ''\n",
        "        for index in range(len(guess)):\n",
        "            if guess_l[index] == candidate_l[index]:\n",
        "                color_out += green\n",
        "            elif candidate_l[index] not in guess:\n",
        "                color_out += white\n",
        "            elif guess_l[index] != candidate_l[index] and candidate_l[index] in guess:\n",
        "                color_out += yellow\n",
        "        return color_out\n",
        "\n",
        "    def check(self, candidate, words):\n",
        "        if len(candidate) != 5:\n",
        "            print('La palabra debe tener 5 letras')\n",
        "            return False\n",
        "        if candidate not in words:\n",
        "            print('La palabra no está en el diccionario')\n",
        "            return False\n",
        "        return True"
      ]
    },
    {
      "cell_type": "code",
      "source": [
        "game = Wordle()"
      ],
      "metadata": {
        "id": "NMse1xttlXSZ",
        "outputId": "61cc9e10-6bfc-4a2f-a60c-2689d5671f66",
        "colab": {
          "base_uri": "https://localhost:8080/"
        }
      },
      "execution_count": null,
      "outputs": [
        {
          "output_type": "stream",
          "name": "stdout",
          "text": [
            "W O R D L E\n",
            "Intento 1/6\n",
            "fiera\n",
            "⬜⬜🟨⬜🟩\n",
            "Intento 2/6\n",
            "corea\n",
            "🟨🟨⬜🟨🟩\n",
            "Intento 3/6\n",
            "tosca\n",
            "⬜🟨🟨🟨🟩\n",
            "Intento 4/6\n",
            "ocesa\n",
            "La palabra no está en el diccionario\n",
            "socia\n",
            "🟨🟨🟩⬜🟩\n",
            "Intento 5/6\n",
            "oscea\n",
            "La palabra no está en el diccionario\n",
            "escoa\n",
            "La acertaste!\n",
            "🟩🟩🟩🟩🟩\n",
            "Intento 6/6\n",
            "\n",
            "La palabra debe tener 5 letras\n"
          ]
        }
      ]
    }
  ]
}