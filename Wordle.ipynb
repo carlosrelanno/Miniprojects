{
  "nbformat": 4,
  "nbformat_minor": 0,
  "metadata": {
    "colab": {
      "name": "Wordle.ipynb",
      "provenance": [],
      "collapsed_sections": [],
      "authorship_tag": "ABX9TyNnvIP/u0PYIuzZGyHUvdJB",
      "include_colab_link": true
    },
    "kernelspec": {
      "name": "python3",
      "display_name": "Python 3"
    },
    "language_info": {
      "name": "python"
    }
  },
  "cells": [
    {
      "cell_type": "markdown",
      "metadata": {
        "id": "view-in-github",
        "colab_type": "text"
      },
      "source": [
        "<a href=\"https://colab.research.google.com/github/carlosrelanno/miniprojects/blob/main/Wordle.ipynb\" target=\"_parent\"><img src=\"https://colab.research.google.com/assets/colab-badge.svg\" alt=\"Open In Colab\"/></a>"
      ]
    },
    {
      "cell_type": "code",
      "source": [
        "!pip install emoji --quiet"
      ],
      "metadata": {
        "id": "ZRwzJjMykiNx"
      },
      "execution_count": null,
      "outputs": []
    },
    {
      "cell_type": "code",
      "source": [
        "!wget https://raw.githubusercontent.com/carlosrelanno/miniprojects/main/words_5.txt --quiet"
      ],
      "metadata": {
        "id": "2DZE74gIxr2u"
      },
      "execution_count": 1,
      "outputs": []
    },
    {
      "cell_type": "code",
      "execution_count": 24,
      "metadata": {
        "id": "NXXmAVjIkZs8"
      },
      "outputs": [],
      "source": [
        "import random, emoji, sys\n",
        "\n",
        "class Wordle:\n",
        "    def __init__(self):\n",
        "        # Load 5-letter word database\n",
        "        file = 'words_5.txt'\n",
        "        with open(file, encoding='UTF-8') as fp:\n",
        "            words = list()\n",
        "            words.extend([word.strip() for word in fp.readlines()])\n",
        "\n",
        "        # Select a random word\n",
        "        guess = words[random.randint(0, len(words))]\n",
        "        # Try to guess the word\n",
        "        print('W O R D L E')\n",
        "        for attempt in range(6):\n",
        "            print(f'Intento {attempt+1}/6')\n",
        "            candidate = input()\n",
        "            while not self.check(candidate, words):\n",
        "                candidate = input()\n",
        "            comparing = self.compare(guess, candidate)\n",
        "            if comparing == emoji.emojize(':green_square:')*5:\n",
        "                print('La acertaste!')\n",
        "                exit()\n",
        "            print(comparing)\n",
        "        print(guess)\n",
        "\n",
        "\n",
        "    def compare(self, guess, candidate):\n",
        "        guess_l = list(guess)\n",
        "        candidate_l = list(candidate)\n",
        "\n",
        "        # Set emojis for colored squares\n",
        "        white = emoji.emojize(':white_large_square:')\n",
        "        green = emoji.emojize(':green_square:')\n",
        "        yellow = emoji.emojize(':yellow_square:')\n",
        "\n",
        "        color_out = ''\n",
        "        for index in range(len(guess)):\n",
        "            if guess_l[index] == candidate_l[index]:\n",
        "                color_out += green\n",
        "            elif candidate_l[index] not in guess:\n",
        "                color_out += white\n",
        "            elif guess_l[index] != candidate_l[index] and candidate_l[index] in guess:\n",
        "                color_out += yellow\n",
        "        return color_out\n",
        "\n",
        "    def check(self, candidate, words):\n",
        "        if len(candidate) != 5:\n",
        "            print('La palabra debe tener 5 letras')\n",
        "            return False\n",
        "        if candidate not in words:\n",
        "            print('La palabra no está en el diccionario')\n",
        "            return False\n",
        "        return True"
      ]
    },
    {
      "cell_type": "code",
      "source": [
        "game = Wordle()"
      ],
      "metadata": {
        "id": "NMse1xttlXSZ",
        "colab": {
          "base_uri": "https://localhost:8080/"
        },
        "outputId": "61cc9e10-6bfc-4a2f-a60c-2689d5671f66"
      },
      "execution_count": 25,
      "outputs": [
        {
          "output_type": "stream",
          "name": "stdout",
          "text": [
            "W O R D L E\n",
            "Intento 1/6\n",
            "fiera\n",
            "⬜⬜🟨⬜🟩\n",
            "Intento 2/6\n",
            "corea\n",
            "🟨🟨⬜🟨🟩\n",
            "Intento 3/6\n",
            "tosca\n",
            "⬜🟨🟨🟨🟩\n",
            "Intento 4/6\n",
            "ocesa\n",
            "La palabra no está en el diccionario\n",
            "socia\n",
            "🟨🟨🟩⬜🟩\n",
            "Intento 5/6\n",
            "oscea\n",
            "La palabra no está en el diccionario\n",
            "escoa\n",
            "La acertaste!\n",
            "🟩🟩🟩🟩🟩\n",
            "Intento 6/6\n",
            "\n",
            "La palabra debe tener 5 letras\n",
            "escoa\n",
            "La acertaste!\n",
            "🟩🟩🟩🟩🟩\n",
            "escoa\n"
          ]
        }
      ]
    }
  ]
}