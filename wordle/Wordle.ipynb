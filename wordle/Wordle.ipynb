{
  "nbformat": 4,
  "nbformat_minor": 0,
  "metadata": {
    "colab": {
      "name": "Wordle.ipynb",
      "provenance": [],
      "collapsed_sections": [],
      "authorship_tag": "ABX9TyOpBY+MPJjYEcHAyLMK6oD4",
      "include_colab_link": true
    },
    "kernelspec": {
      "name": "python3",
      "display_name": "Python 3"
    },
    "language_info": {
      "name": "python"
    }
  },
  "cells": [
    {
      "cell_type": "markdown",
      "metadata": {
        "id": "view-in-github",
        "colab_type": "text"
      },
      "source": [
        "<a href=\"https://colab.research.google.com/github/carlosrelanno/miniprojects/blob/main/wordle/Wordle.ipynb\" target=\"_parent\"><img src=\"https://colab.research.google.com/assets/colab-badge.svg\" alt=\"Open In Colab\"/></a>"
      ]
    },
    {
      "cell_type": "code",
      "source": [
        "!pip install emoji --quiet"
      ],
      "metadata": {
        "id": "ZRwzJjMykiNx",
        "outputId": "7e2ca3ad-9239-46a2-beab-68604f4c8838",
        "colab": {
          "base_uri": "https://localhost:8080/"
        }
      },
      "execution_count": 1,
      "outputs": [
        {
          "output_type": "stream",
          "name": "stdout",
          "text": [
            "\u001b[?25l\r\u001b[K     |█▉                              | 10 kB 14.6 MB/s eta 0:00:01\r\u001b[K     |███▊                            | 20 kB 12.4 MB/s eta 0:00:01\r\u001b[K     |█████▋                          | 30 kB 16.3 MB/s eta 0:00:01\r\u001b[K     |███████▌                        | 40 kB 8.1 MB/s eta 0:00:01\r\u001b[K     |█████████▍                      | 51 kB 9.0 MB/s eta 0:00:01\r\u001b[K     |███████████▎                    | 61 kB 9.4 MB/s eta 0:00:01\r\u001b[K     |█████████████▏                  | 71 kB 7.3 MB/s eta 0:00:01\r\u001b[K     |███████████████                 | 81 kB 7.9 MB/s eta 0:00:01\r\u001b[K     |█████████████████               | 92 kB 7.3 MB/s eta 0:00:01\r\u001b[K     |██████████████████▉             | 102 kB 7.9 MB/s eta 0:00:01\r\u001b[K     |████████████████████▊           | 112 kB 7.9 MB/s eta 0:00:01\r\u001b[K     |██████████████████████▋         | 122 kB 7.9 MB/s eta 0:00:01\r\u001b[K     |████████████████████████▌       | 133 kB 7.9 MB/s eta 0:00:01\r\u001b[K     |██████████████████████████▍     | 143 kB 7.9 MB/s eta 0:00:01\r\u001b[K     |████████████████████████████▏   | 153 kB 7.9 MB/s eta 0:00:01\r\u001b[K     |██████████████████████████████  | 163 kB 7.9 MB/s eta 0:00:01\r\u001b[K     |████████████████████████████████| 174 kB 7.9 MB/s eta 0:00:01\r\u001b[K     |████████████████████████████████| 174 kB 7.9 MB/s \n",
            "\u001b[?25h  Building wheel for emoji (setup.py) ... \u001b[?25l\u001b[?25hdone\n"
          ]
        }
      ]
    },
    {
      "cell_type": "code",
      "source": [
        "!wget https://raw.githubusercontent.com/carlosrelanno/miniprojects/main/wordle/words_5.txt --quiet"
      ],
      "metadata": {
        "id": "2DZE74gIxr2u"
      },
      "execution_count": 2,
      "outputs": []
    },
    {
      "cell_type": "code",
      "execution_count": 3,
      "metadata": {
        "id": "NXXmAVjIkZs8"
      },
      "outputs": [],
      "source": [
        "import random, emoji, sys\n",
        "\n",
        "class Wordle:\n",
        "    def __init__(self):\n",
        "        # Load 5-letter word database\n",
        "        file = 'words_5.txt'\n",
        "        with open(file, encoding='UTF-8') as fp:\n",
        "            words = list()\n",
        "            words.extend([word.strip() for word in fp.readlines()])\n",
        "\n",
        "        # Select a random word\n",
        "        guess = words[random.randint(0, len(words))]\n",
        "        # Try to guess the word\n",
        "        print('W O R D L E')\n",
        "        for attempt in range(6):\n",
        "            print(f'Intento {attempt+1}/6')\n",
        "            candidate = input()\n",
        "            while not self.check(candidate, words):\n",
        "                candidate = input()\n",
        "            comparing = self.compare(guess, candidate)\n",
        "            if comparing == emoji.emojize(':green_square:')*5:\n",
        "                print('La acertaste!')\n",
        "                exit()\n",
        "            print(comparing)\n",
        "        print(guess)\n",
        "\n",
        "\n",
        "    def compare(self, guess, candidate):\n",
        "        guess_l = list(guess)\n",
        "        candidate_l = list(candidate)\n",
        "\n",
        "        # Set emojis for colored squares\n",
        "        white = emoji.emojize(':white_large_square:')\n",
        "        green = emoji.emojize(':green_square:')\n",
        "        yellow = emoji.emojize(':yellow_square:')\n",
        "\n",
        "        color_out = ''\n",
        "        for index in range(len(guess)):\n",
        "            if guess_l[index] == candidate_l[index]:\n",
        "                color_out += green\n",
        "            elif candidate_l[index] not in guess:\n",
        "                color_out += white\n",
        "            elif guess_l[index] != candidate_l[index] and candidate_l[index] in guess:\n",
        "                color_out += yellow\n",
        "        return color_out\n",
        "\n",
        "    def check(self, candidate, words):\n",
        "        if len(candidate) != 5:\n",
        "            print('La palabra debe tener 5 letras')\n",
        "            return False\n",
        "        if candidate not in words:\n",
        "            print('La palabra no está en el diccionario')\n",
        "            return False\n",
        "        return True"
      ]
    },
    {
      "cell_type": "code",
      "source": [
        "game = Wordle()"
      ],
      "metadata": {
        "id": "NMse1xttlXSZ",
        "colab": {
          "base_uri": "https://localhost:8080/"
        },
        "outputId": "5894f43e-90a7-41c9-9ae7-0506421b36f0"
      },
      "execution_count": null,
      "outputs": [
        {
          "output_type": "stream",
          "name": "stdout",
          "text": [
            "W O R D L E\n",
            "Intento 1/6\n"
          ]
        }
      ]
    }
  ]
}